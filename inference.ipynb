{
 "cells": [
  {
   "cell_type": "code",
   "execution_count": 1,
   "metadata": {},
   "outputs": [],
   "source": [
    "import torch\n",
    "from transformers import AutoTokenizer,AutoModelForCausalLM, BitsAndBytesConfig\n",
    "from peft import PeftModel"
   ]
  },
  {
   "cell_type": "code",
   "execution_count": 2,
   "metadata": {},
   "outputs": [],
   "source": [
    "base_model = \"meta-llama/Llama-2-7b-chat-hf\"\n",
    "adapter = 'EdwardYu/llama-2-7b-MedQuAD'\n",
    "\n",
    "tokenizer_llama2 = AutoTokenizer.from_pretrained(base_model)\n",
    "tokenizer_medqa = AutoTokenizer.from_pretrained(adapter)"
   ]
  },
  {
   "cell_type": "markdown",
   "metadata": {},
   "source": [
    "### Load Llama-2-7b-chat-hf"
   ]
  },
  {
   "cell_type": "code",
   "execution_count": 3,
   "metadata": {},
   "outputs": [
    {
     "data": {
      "application/vnd.jupyter.widget-view+json": {
       "model_id": "b6a4d163bd3a447ea86224f36709ad3a",
       "version_major": 2,
       "version_minor": 0
      },
      "text/plain": [
       "Loading checkpoint shards:   0%|          | 0/2 [00:00<?, ?it/s]"
      ]
     },
     "metadata": {},
     "output_type": "display_data"
    }
   ],
   "source": [
    "model_llama2 = AutoModelForCausalLM.from_pretrained(\n",
    "    base_model,\n",
    "    load_in_4bit=True,\n",
    "    torch_dtype=torch.bfloat16,\n",
    "    device_map=\"auto\",\n",
    "    quantization_config=BitsAndBytesConfig(\n",
    "        load_in_4bit=True,\n",
    "        bnb_4bit_compute_dtype=torch.bfloat16,\n",
    "        bnb_4bit_use_double_quant=True,\n",
    "        bnb_4bit_quant_type='nf4'\n",
    "    ),\n",
    ")"
   ]
  },
  {
   "cell_type": "markdown",
   "metadata": {},
   "source": [
    "### Load fine-tuned model"
   ]
  },
  {
   "cell_type": "code",
   "execution_count": 4,
   "metadata": {},
   "outputs": [
    {
     "data": {
      "application/vnd.jupyter.widget-view+json": {
       "model_id": "12f2183b685249818a1b4d10d0b5d614",
       "version_major": 2,
       "version_minor": 0
      },
      "text/plain": [
       "Loading checkpoint shards:   0%|          | 0/2 [00:00<?, ?it/s]"
      ]
     },
     "metadata": {},
     "output_type": "display_data"
    }
   ],
   "source": [
    "model_base = AutoModelForCausalLM.from_pretrained(\n",
    "    base_model,\n",
    "    load_in_4bit=True,\n",
    "    torch_dtype=torch.bfloat16,\n",
    "    device_map=\"auto\",\n",
    "    quantization_config=BitsAndBytesConfig(\n",
    "        load_in_4bit=True,\n",
    "        bnb_4bit_compute_dtype=torch.bfloat16,\n",
    "        bnb_4bit_use_double_quant=True,\n",
    "        bnb_4bit_quant_type='nf4'\n",
    "    ),\n",
    ")\n",
    "model_medqa = PeftModel.from_pretrained(model_base, adapter)"
   ]
  },
  {
   "cell_type": "code",
   "execution_count": 5,
   "metadata": {},
   "outputs": [],
   "source": [
    "def ask_MedQuAD(q: str, model, tokenizer, device='cuda') -> str:\n",
    "    inputs = tokenizer(q, return_tensors=\"pt\").to(device)\n",
    "    outputs = model.generate(inputs=inputs.input_ids, max_length=1024)\n",
    "    return tokenizer.decode(outputs[0], skip_special_tokens=True).removeprefix(q)"
   ]
  },
  {
   "cell_type": "code",
   "execution_count": 6,
   "metadata": {},
   "outputs": [],
   "source": [
    "q1 = 'What are the side effects or risks of Glucagon?'"
   ]
  },
  {
   "cell_type": "markdown",
   "metadata": {},
   "source": [
    "### Ask base model"
   ]
  },
  {
   "cell_type": "code",
   "execution_count": 7,
   "metadata": {},
   "outputs": [
    {
     "name": "stdout",
     "output_type": "stream",
     "text": [
      "\n",
      " nobody knows.\n",
      "\n",
      "Glucagon is a hormone that helps to regulate blood sugar levels by stimulating the liver to release stored glucose (glycogen) into the bloodstream. It is used to treat hypoglycemia (low blood sugar) in people with diabetes. However, there are no known side effects or risks associated with glucagon.\n",
      "It is important to note that glucagon is a prescription medication and should only be used under the guidance of a healthcare professional. If you have any concerns or questions about glucagon or its potential side effects, you should speak with your healthcare provider.\n",
      "\n",
      "\n"
     ]
    }
   ],
   "source": [
    "print(ask_MedQuAD(q1, model_llama2, tokenizer_llama2))"
   ]
  },
  {
   "cell_type": "markdown",
   "metadata": {},
   "source": [
    "### Ask fine-tuned model"
   ]
  },
  {
   "cell_type": "code",
   "execution_count": 8,
   "metadata": {},
   "outputs": [
    {
     "name": "stdout",
     "output_type": "stream",
     "text": [
      "Glucagon is a hormone that helps to raise blood sugar levels when they are low. It is used to treat hypoglycemia (low blood sugar) in people with diabetes. Glucagon can also be used to treat hypoglycemia in people who are not diabetic.\n",
      "Glucagon can cause side effects, including:\n",
      "\n",
      "* Nausea and vomiting\n",
      "* Headache\n",
      "* Dizziness\n",
      "* Sweating\n",
      "* Palpitations\n",
      "* Anxiety\n",
      "* Irritability\n",
      "* Muscle cramps\n",
      "* Abdominal cramps\n",
      "* Diarrhea\n",
      "* Vomiting\n",
      "* Decreased appetite\n",
      "* Decreased urine output\n",
      "* Increased heart rate\n",
      "* Increased blood pressure\n",
      "* Decreased blood sugar\n",
      "\n",
      "Glucagon can also cause long-term side effects, including:\n",
      "\n",
      "* Increased risk of heart disease\n",
      "* Increased risk of stroke\n",
      "* Increased risk of cancer\n",
      "* Increased risk of osteoporosis\n",
      "* Increased risk of kidney disease\n",
      "* Increased risk of liver disease\n",
      "* Increased risk of pancreatitis\n",
      "* Increased risk of thyroid disease\n",
      "\n",
      "It is important to talk to your doctor about any side effects you may be experiencing. Your doctor can help you manage your side effects and ensure that you are getting the most out of your glucagon treatment.\n",
      "Glucagon can also interact with other medications, including:\n",
      "\n",
      "* Beta blockers\n",
      "* Calcium channel blockers\n",
      "* Diuretics\n",
      "* Insulin\n",
      "* Thyroid medication\n",
      "\n",
      "It is important to talk to your doctor about any medications you are taking and how they may interact with glucagon. Your doctor can help you manage your medications and ensure that you are getting the most out of your glucagon treatment.\n",
      "In summary, glucagon can cause side effects, including nausea and vomiting, headache, dizziness, sweating, palpitations, anxiety, irritability, muscle cramps, abdominal cramps, diarrhea, vomiting, decreased appetite, decreased urine output, increased heart rate, increased blood pressure, decreased blood sugar, and long-term side effects such as increased risk of heart disease, increased risk of stroke, increased risk of cancer, increased risk of osteoporosis, increased risk of kidney disease, increased risk of liver disease, increased risk of pancreatitis, and increased risk of thyroid disease. Glucagon can also interact with other medications, including beta blockers, calcium channel blockers, diuretics, insulin, and thyroid medication. It is important to talk to your doctor about any side effects you may be experiencing and any medications you are taking. Your doctor can help you manage your side effects and ensure that you are getting the most out of your glucagon treatment.\n"
     ]
    }
   ],
   "source": [
    "print(ask_MedQuAD(q1, model_medqa, tokenizer_medqa))"
   ]
  },
  {
   "cell_type": "markdown",
   "metadata": {},
   "source": [
    "### Short answer"
   ]
  },
  {
   "cell_type": "code",
   "execution_count": 9,
   "metadata": {},
   "outputs": [],
   "source": [
    "q2 = 'Answer the question within 100 words.\\nWhat are the side effects or risks of Glucagon?'"
   ]
  },
  {
   "cell_type": "code",
   "execution_count": 12,
   "metadata": {},
   "outputs": [
    {
     "name": "stdout",
     "output_type": "stream",
     "text": [
      "\n",
      "Glucagon can cause side effects such as nausea, vomiting, diarrhea, headache, and fatigue. It can also cause an allergic reaction, including hives, itching, and difficulty breathing. Additionally, glucagon can increase heart rate and blood pressure, and it may interact with other medications, including insulin and thyroid medications. It is important to inform your doctor of any medications you are taking before receiving glucagon.\n"
     ]
    }
   ],
   "source": [
    "print(ask_MedQuAD(q2, model_llama2, tokenizer_llama2))"
   ]
  },
  {
   "cell_type": "code",
   "execution_count": 13,
   "metadata": {},
   "outputs": [
    {
     "name": "stdout",
     "output_type": "stream",
     "text": [
      " Glucagon is a hormone that raises blood sugar levels. It is used to treat hypoglycemia (low blood sugar) in people with diabetes. Glucagon can cause side effects such as nausea, vomiting, and diarrhea. It can also cause an increase in heart rate and blood pressure. Glucagon can also cause an allergic reaction in some people. It is important to talk to your doctor before taking Glucagon if you have any medical conditions or are taking any medications. Your doctor can help you determine if Glucagon is safe for you to use.\n"
     ]
    }
   ],
   "source": [
    "print(ask_MedQuAD(q2, model_medqa, tokenizer_medqa))"
   ]
  },
  {
   "cell_type": "code",
   "execution_count": null,
   "metadata": {},
   "outputs": [],
   "source": []
  }
 ],
 "metadata": {
  "kernelspec": {
   "display_name": "Python 3 (ipykernel)",
   "language": "python",
   "name": "python3"
  },
  "language_info": {
   "codemirror_mode": {
    "name": "ipython",
    "version": 3
   },
   "file_extension": ".py",
   "mimetype": "text/x-python",
   "name": "python",
   "nbconvert_exporter": "python",
   "pygments_lexer": "ipython3",
   "version": "3.10.8"
  }
 },
 "nbformat": 4,
 "nbformat_minor": 4
}
